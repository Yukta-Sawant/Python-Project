{
  "nbformat": 4,
  "nbformat_minor": 0,
  "metadata": {
    "colab": {
      "provenance": []
    },
    "kernelspec": {
      "name": "python3",
      "display_name": "Python 3"
    },
    "language_info": {
      "name": "python"
    }
  },
  "cells": [
    {
      "cell_type": "code",
      "execution_count": 1,
      "metadata": {
        "id": "YEAv4xJCjsEr"
      },
      "outputs": [],
      "source": [
        "import random\n",
        "\n",
        "suits = ('Hearts', 'Diamonds', 'Spades', 'Clubs')\n",
        "ranks = ('Two', 'Three', 'Four', 'Five', 'Six', 'Seven', 'Eight', 'Nine', 'Ten', 'Jack', 'Queen', 'King', 'Ace')\n",
        "values = {'Two':2, 'Three':3, 'Four':4, 'Five':5, 'Six':6, 'Seven':7, 'Eight':8, 'Nine':9, 'Ten':10, 'Jack':10,\n",
        "         'Queen':10, 'King':10, 'Ace':11}\n",
        "\n",
        "playing = True"
      ]
    },
    {
      "cell_type": "code",
      "source": [
        "class Card:\n",
        "\n",
        "    def __init__(self,suit,rank):\n",
        "        self.suit = suit\n",
        "        self.rank = rank\n",
        "        \n",
        "    def __str__(self):\n",
        "        return self.rank + ' of ' + self.suit"
      ],
      "metadata": {
        "id": "nOxxuY5ykZgJ"
      },
      "execution_count": 2,
      "outputs": []
    },
    {
      "cell_type": "code",
      "source": [
        "class Deck:\n",
        "    \n",
        "    def __init__(self):\n",
        "        self.deck = []  # start with an empty list\n",
        "        for suit in suits:\n",
        "            for rank in ranks:\n",
        "                self.deck.append(Card(suit,rank))  # build Card objects and add them to the list\n",
        "    \n",
        "    def __str__(self):\n",
        "        deck_comp = ''  # start with an empty string\n",
        "        for card in self.deck:\n",
        "            deck_comp += '\\n '+card.__str__() # add each Card object's print string\n",
        "        return 'The deck has:' + deck_comp\n",
        "\n",
        "    def shuffle(self):\n",
        "        random.shuffle(self.deck)\n",
        "        \n",
        "    def deal(self):\n",
        "        single_card = self.deck.pop()\n",
        "        return single_card"
      ],
      "metadata": {
        "id": "eJ3Tt5Oykbe0"
      },
      "execution_count": 3,
      "outputs": []
    },
    {
      "cell_type": "code",
      "source": [
        "test_deck = Deck()\n",
        "print(test_deck)"
      ],
      "metadata": {
        "colab": {
          "base_uri": "https://localhost:8080/"
        },
        "id": "Awr5gYo5kjdZ",
        "outputId": "3e44ee38-d224-4095-a34f-bd42109f423e"
      },
      "execution_count": 4,
      "outputs": [
        {
          "output_type": "stream",
          "name": "stdout",
          "text": [
            "The deck has:\n",
            " Two of Hearts\n",
            " Three of Hearts\n",
            " Four of Hearts\n",
            " Five of Hearts\n",
            " Six of Hearts\n",
            " Seven of Hearts\n",
            " Eight of Hearts\n",
            " Nine of Hearts\n",
            " Ten of Hearts\n",
            " Jack of Hearts\n",
            " Queen of Hearts\n",
            " King of Hearts\n",
            " Ace of Hearts\n",
            " Two of Diamonds\n",
            " Three of Diamonds\n",
            " Four of Diamonds\n",
            " Five of Diamonds\n",
            " Six of Diamonds\n",
            " Seven of Diamonds\n",
            " Eight of Diamonds\n",
            " Nine of Diamonds\n",
            " Ten of Diamonds\n",
            " Jack of Diamonds\n",
            " Queen of Diamonds\n",
            " King of Diamonds\n",
            " Ace of Diamonds\n",
            " Two of Spades\n",
            " Three of Spades\n",
            " Four of Spades\n",
            " Five of Spades\n",
            " Six of Spades\n",
            " Seven of Spades\n",
            " Eight of Spades\n",
            " Nine of Spades\n",
            " Ten of Spades\n",
            " Jack of Spades\n",
            " Queen of Spades\n",
            " King of Spades\n",
            " Ace of Spades\n",
            " Two of Clubs\n",
            " Three of Clubs\n",
            " Four of Clubs\n",
            " Five of Clubs\n",
            " Six of Clubs\n",
            " Seven of Clubs\n",
            " Eight of Clubs\n",
            " Nine of Clubs\n",
            " Ten of Clubs\n",
            " Jack of Clubs\n",
            " Queen of Clubs\n",
            " King of Clubs\n",
            " Ace of Clubs\n"
          ]
        }
      ]
    },
    {
      "cell_type": "code",
      "source": [
        "class Hand:\n",
        "    def __init__(self):\n",
        "        self.cards = []  # start with an empty list as we did in the Deck class\n",
        "        self.value = 0   # start with zero value\n",
        "        self.aces = 0    # add an attribute to keep track of aces\n",
        "    \n",
        "    def add_card(self,card):\n",
        "        self.cards.append(card)\n",
        "        self.value += values[card.rank]\n",
        "    \n",
        "    def adjust_for_ace(self):\n",
        "        pass"
      ],
      "metadata": {
        "id": "TULYdDRskpBf"
      },
      "execution_count": 5,
      "outputs": []
    },
    {
      "cell_type": "code",
      "source": [
        "test_deck = Deck()\n",
        "test_deck.shuffle()\n",
        "test_player = Hand()\n",
        "test_player.add_card(test_deck.deal())\n",
        "test_player.add_card(test_deck.deal())\n",
        "test_player.value"
      ],
      "metadata": {
        "colab": {
          "base_uri": "https://localhost:8080/"
        },
        "id": "_vtPwOj1kxtk",
        "outputId": "8155996b-2aac-4aa7-814c-e6cb3863ec7d"
      },
      "execution_count": 6,
      "outputs": [
        {
          "output_type": "execute_result",
          "data": {
            "text/plain": [
              "12"
            ]
          },
          "metadata": {},
          "execution_count": 6
        }
      ]
    },
    {
      "cell_type": "code",
      "source": [
        "for card in test_player.cards:\n",
        "    print(card)"
      ],
      "metadata": {
        "colab": {
          "base_uri": "https://localhost:8080/"
        },
        "id": "UFOmxbvrk2aN",
        "outputId": "f3899680-2ff9-4d2d-a898-053da9214a45"
      },
      "execution_count": 7,
      "outputs": [
        {
          "output_type": "stream",
          "name": "stdout",
          "text": [
            "Four of Diamonds\n",
            "Eight of Hearts\n"
          ]
        }
      ]
    },
    {
      "cell_type": "code",
      "source": [
        "class Hand:\n",
        "    \n",
        "    def __init__(self):\n",
        "        self.cards = []  # start with an empty list as we did in the Deck class\n",
        "        self.value = 0   # start with zero value\n",
        "        self.aces = 0    # add an attribute to keep track of aces\n",
        "    \n",
        "    def add_card(self,card):\n",
        "        self.cards.append(card)\n",
        "        self.value += values[card.rank]\n",
        "        if card.rank == 'Ace':\n",
        "            self.aces += 1  # add to self.aces\n",
        "    \n",
        "    def adjust_for_ace(self):\n",
        "        while self.value > 21 and self.aces:\n",
        "            self.value -= 10\n",
        "            self.aces -= 1 "
      ],
      "metadata": {
        "id": "F24Fgq5Ik6BH"
      },
      "execution_count": 8,
      "outputs": []
    },
    {
      "cell_type": "code",
      "source": [
        "class Chips:\n",
        "    \n",
        "    def __init__(self):\n",
        "        self.total = 100  # This can be set to a default value or supplied by a user input\n",
        "        self.bet = 0\n",
        "        \n",
        "    def win_bet(self):\n",
        "        self.total += self.bet\n",
        "    \n",
        "    def lose_bet(self):\n",
        "        self.total -= self.bet"
      ],
      "metadata": {
        "id": "VOSZ31EjlAR9"
      },
      "execution_count": 9,
      "outputs": []
    },
    {
      "cell_type": "code",
      "source": [
        "def take_bet(chips):\n",
        "    \n",
        "    while True:\n",
        "        try:\n",
        "            chips.bet = int(input('How many chips would you like to bet? '))\n",
        "        except ValueError:\n",
        "            print('Sorry, a bet must be an integer!')\n",
        "        else:\n",
        "            if chips.bet > chips.total:\n",
        "                print(\"Sorry, your bet can't exceed\",chips.total)\n",
        "            else:\n",
        "                break"
      ],
      "metadata": {
        "id": "HngfYiBAlFFj"
      },
      "execution_count": 10,
      "outputs": []
    },
    {
      "cell_type": "code",
      "source": [
        "def hit(deck,hand):\n",
        "    \n",
        "    hand.add_card(deck.deal())\n",
        "    hand.adjust_for_ace()"
      ],
      "metadata": {
        "id": "Vzut2OZNlIy9"
      },
      "execution_count": 11,
      "outputs": []
    },
    {
      "cell_type": "code",
      "source": [
        "def hit_or_stand(deck,hand):\n",
        "    global playing  # to control an upcoming while loop\n",
        "    \n",
        "    while True:\n",
        "        x = input(\"Would you like to Hit or Stand? Enter 'h' or 's' \")\n",
        "        \n",
        "        if x[0].lower() == 'h':\n",
        "            hit(deck,hand)  # hit() function defined above\n",
        "\n",
        "        elif x[0].lower() == 's':\n",
        "            print(\"Player stands. Dealer is playing.\")\n",
        "            playing = False\n",
        "\n",
        "        else:\n",
        "            print(\"Sorry, please try again.\")\n",
        "            continue\n",
        "        break"
      ],
      "metadata": {
        "id": "nt8kj5Z-lM0j"
      },
      "execution_count": 12,
      "outputs": []
    },
    {
      "cell_type": "code",
      "source": [
        "def show_some(player,dealer):\n",
        "    print(\"\\nDealer's Hand:\")\n",
        "    print(\" <card hidden>\")\n",
        "    print('',dealer.cards[1])  \n",
        "    print(\"\\nPlayer's Hand:\", *player.cards, sep='\\n ')\n",
        "    \n",
        "def show_all(player,dealer):\n",
        "    print(\"\\nDealer's Hand:\", *dealer.cards, sep='\\n ')\n",
        "    print(\"Dealer's Hand =\",dealer.value)\n",
        "    print(\"\\nPlayer's Hand:\", *player.cards, sep='\\n ')\n",
        "    print(\"Player's Hand =\",player.value)"
      ],
      "metadata": {
        "id": "BqeHv6e6lQQc"
      },
      "execution_count": 13,
      "outputs": []
    },
    {
      "cell_type": "code",
      "source": [
        "def player_busts(player,dealer,chips):\n",
        "    print(\"Player busts!\")\n",
        "    chips.lose_bet()\n",
        "\n",
        "def player_wins(player,dealer,chips):\n",
        "    print(\"Player wins!\")\n",
        "    chips.win_bet()\n",
        "\n",
        "def dealer_busts(player,dealer,chips):\n",
        "    print(\"Dealer busts!\")\n",
        "    chips.win_bet()\n",
        "    \n",
        "def dealer_wins(player,dealer,chips):\n",
        "    print(\"Dealer wins!\")\n",
        "    chips.lose_bet()\n",
        "    \n",
        "def push(player,dealer):\n",
        "    print(\"Dealer and Player tie! It's a push.\")"
      ],
      "metadata": {
        "id": "a_9w9JfjlV7h"
      },
      "execution_count": 14,
      "outputs": []
    },
    {
      "cell_type": "code",
      "source": [
        "while True:\n",
        "    # Print an opening statement\n",
        "    print('Welcome to BlackJack! Get as close to 21 as you can without going over!\\n\\\n",
        "    Dealer hits until she reaches 17. Aces count as 1 or 11.')\n",
        "    \n",
        "    # Create & shuffle the deck, deal two cards to each player\n",
        "    deck = Deck()\n",
        "    deck.shuffle()\n",
        "    \n",
        "    player_hand = Hand()\n",
        "    player_hand.add_card(deck.deal())\n",
        "    player_hand.add_card(deck.deal())\n",
        "    \n",
        "    dealer_hand = Hand()\n",
        "    dealer_hand.add_card(deck.deal())\n",
        "    dealer_hand.add_card(deck.deal())\n",
        "            \n",
        "    # Set up the Player's chips\n",
        "    player_chips = Chips()  # remember the default value is 100    \n",
        "    \n",
        "    # Prompt the Player for their bet\n",
        "    take_bet(player_chips)\n",
        "    \n",
        "    # Show cards (but keep one dealer card hidden)\n",
        "    show_some(player_hand,dealer_hand)\n",
        "    \n",
        "    while playing:  # recall this variable from our hit_or_stand function\n",
        "        \n",
        "        # Prompt for Player to Hit or Stand\n",
        "        hit_or_stand(deck,player_hand) \n",
        "        \n",
        "        # Show cards (but keep one dealer card hidden)\n",
        "        show_some(player_hand,dealer_hand)  \n",
        "        \n",
        "        # If player's hand exceeds 21, run player_busts() and break out of loop\n",
        "        if player_hand.value > 21:\n",
        "            player_busts(player_hand,dealer_hand,player_chips)\n",
        "            break        \n",
        "\n",
        "\n",
        "    # If Player hasn't busted, play Dealer's hand until Dealer reaches 17 \n",
        "    if player_hand.value <= 21:\n",
        "        \n",
        "        while dealer_hand.value < 17:\n",
        "            hit(deck,dealer_hand)    \n",
        "    \n",
        "        # Show all cards\n",
        "        show_all(player_hand,dealer_hand)\n",
        "        \n",
        "        # Run different winning scenarios\n",
        "        if dealer_hand.value > 21:\n",
        "            dealer_busts(player_hand,dealer_hand,player_chips)\n",
        "\n",
        "        elif dealer_hand.value > player_hand.value:\n",
        "            dealer_wins(player_hand,dealer_hand,player_chips)\n",
        "\n",
        "        elif dealer_hand.value < player_hand.value:\n",
        "            player_wins(player_hand,dealer_hand,player_chips)\n",
        "\n",
        "        else:\n",
        "            push(player_hand,dealer_hand)        \n",
        "    \n",
        "    # Inform Player of their chips total \n",
        "    print(\"\\nPlayer's winnings stand at\",player_chips.total)\n",
        "    \n",
        "    # Ask to play again\n",
        "    new_game = input(\"Would you like to play another hand? Enter 'y' or 'n' \")\n",
        "    \n",
        "    if new_game[0].lower()=='y':\n",
        "        playing=True\n",
        "        continue\n",
        "    else:\n",
        "        print(\"Thanks for playing!\")\n",
        "        break"
      ],
      "metadata": {
        "colab": {
          "base_uri": "https://localhost:8080/"
        },
        "id": "Qcry193lldhz",
        "outputId": "7d726630-76e9-4774-9b52-33237390a0ef"
      },
      "execution_count": 15,
      "outputs": [
        {
          "output_type": "stream",
          "name": "stdout",
          "text": [
            "Welcome to BlackJack! Get as close to 21 as you can without going over!\n",
            "    Dealer hits until she reaches 17. Aces count as 1 or 11.\n",
            "How many chips would you like to bet? 2\n",
            "\n",
            "Dealer's Hand:\n",
            " <card hidden>\n",
            " Queen of Clubs\n",
            "\n",
            "Player's Hand:\n",
            " Jack of Clubs\n",
            " Six of Clubs\n",
            "Would you like to Hit or Stand? Enter 'h' or 's' h\n",
            "\n",
            "Dealer's Hand:\n",
            " <card hidden>\n",
            " Queen of Clubs\n",
            "\n",
            "Player's Hand:\n",
            " Jack of Clubs\n",
            " Six of Clubs\n",
            " Jack of Hearts\n",
            "Player busts!\n",
            "\n",
            "Player's winnings stand at 98\n",
            "Would you like to play another hand? Enter 'y' or 'n' y\n",
            "Welcome to BlackJack! Get as close to 21 as you can without going over!\n",
            "    Dealer hits until she reaches 17. Aces count as 1 or 11.\n",
            "How many chips would you like to bet? 3\n",
            "\n",
            "Dealer's Hand:\n",
            " <card hidden>\n",
            " Three of Clubs\n",
            "\n",
            "Player's Hand:\n",
            " Seven of Diamonds\n",
            " Five of Hearts\n",
            "Would you like to Hit or Stand? Enter 'h' or 's' s\n",
            "Player stands. Dealer is playing.\n",
            "\n",
            "Dealer's Hand:\n",
            " <card hidden>\n",
            " Three of Clubs\n",
            "\n",
            "Player's Hand:\n",
            " Seven of Diamonds\n",
            " Five of Hearts\n",
            "\n",
            "Dealer's Hand:\n",
            " Jack of Diamonds\n",
            " Three of Clubs\n",
            " Nine of Clubs\n",
            "Dealer's Hand = 22\n",
            "\n",
            "Player's Hand:\n",
            " Seven of Diamonds\n",
            " Five of Hearts\n",
            "Player's Hand = 12\n",
            "Dealer busts!\n",
            "\n",
            "Player's winnings stand at 103\n",
            "Would you like to play another hand? Enter 'y' or 'n' n\n",
            "Thanks for playing!\n"
          ]
        }
      ]
    },
    {
      "cell_type": "code",
      "source": [],
      "metadata": {
        "id": "3cbII772lydK"
      },
      "execution_count": null,
      "outputs": []
    }
  ]
}